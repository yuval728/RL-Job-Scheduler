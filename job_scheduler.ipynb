{
 "cells": [
  {
   "cell_type": "code",
   "execution_count": 22,
   "id": "a3d128e1",
   "metadata": {},
   "outputs": [],
   "source": [
    "import gymnasium as gym\n",
    "from gymnasium import spaces\n",
    "import numpy as np\n",
    "import random\n",
    "from stable_baselines3 import PPO, A2C, SAC, DQN, TD3, DDPG\n",
    "from stable_baselines3.common.evaluation import evaluate_policy\n",
    "import matplotlib.pyplot as plt\n",
    "import warnings\n",
    "\n",
    "warnings.filterwarnings(\"ignore\", category=UserWarning)\n",
    "\n"
   ]
  },
  {
   "cell_type": "code",
   "execution_count": null,
   "id": "2eb9cd7e",
   "metadata": {},
   "outputs": [],
   "source": [
    "\n",
    "\n",
    "class JobSchedulingEnv(gym.Env):\n",
    "    def __init__(self, num_jobs=5):\n",
    "        super(JobSchedulingEnv, self).__init__()\n",
    "        self.num_jobs = num_jobs\n",
    "\n",
    "        self.action_space = spaces.Box(low=0, high=1, shape=(num_jobs + 1,), dtype=np.float32)\n",
    "        self.observation_space = spaces.Box(low=0, high=100, shape=(num_jobs, 6), dtype=np.float32)\n",
    "\n",
    "        self.jobs = []\n",
    "        self.time = 0\n",
    "        self.done_jobs = []\n",
    "\n",
    "    def reset(self, seed=None, options=None, jobs=None):\n",
    "        if seed is not None:\n",
    "            random.seed(seed)\n",
    "            np.random.seed(seed)\n",
    "\n",
    "        self.time = 0\n",
    "        self.done_jobs = []\n",
    "\n",
    "        if jobs is not None:\n",
    "            self.jobs = [tuple(job) for job in jobs]\n",
    "            self.num_jobs = len(self.jobs)\n",
    "        else:\n",
    "            # Generate random jobs\n",
    "            arrival_times = np.sort(np.random.normal(loc=5, scale=2, size=self.num_jobs))\n",
    "            arrival_times = np.clip(arrival_times, 0, 10) / 10\n",
    "            execution_times = np.clip(np.random.normal(loc=5, scale=2, size=self.num_jobs), 1, 10) / 10\n",
    "            priorities = np.random.choice([1, 2, 3, 4, 5], self.num_jobs, p=[0.1, 0.2, 0.4, 0.2, 0.1]) / 5\n",
    "            deadlines = (arrival_times + execution_times + np.random.randint(3, 10, size=self.num_jobs)) / 20\n",
    "            cpu_requirements = np.random.randint(1, 11, size=self.num_jobs) / 10\n",
    "            job_types = np.random.choice([0, 1], self.num_jobs)\n",
    "\n",
    "            self.jobs = list(zip(arrival_times, execution_times, priorities, deadlines, cpu_requirements, job_types))\n",
    "\n",
    "        self.jobs.sort(key=lambda x: x[0])\n",
    "        return self._get_observation(), {}\n",
    "\n",
    "    def _get_observation(self):\n",
    "        obs = np.zeros((self.num_jobs, 6), dtype=np.float32)\n",
    "        for i, job in enumerate(self.jobs):\n",
    "            obs[i] = job\n",
    "        return obs\n",
    "\n",
    "    def step(self, action):\n",
    "        scheduling_scores = action[:len(self.jobs)]\n",
    "        resource_allocation = action[-1]\n",
    "\n",
    "        job_index = int(np.argmax(scheduling_scores))\n",
    "        if job_index >= len(self.jobs):\n",
    "            return self._get_observation(), -10, True, False, {}\n",
    "\n",
    "        selected_job = self.jobs.pop(job_index)\n",
    "        arrival_time, execution_time, priority, deadline, cpu_req, job_type = selected_job\n",
    "\n",
    "        start_time = max(self.time, arrival_time)\n",
    "        end_time = start_time + execution_time\n",
    "        self.time = end_time\n",
    "\n",
    "        waiting_time = start_time - arrival_time\n",
    "        base_reward = -waiting_time - (execution_time / (priority + 1e-8)) - len(self.jobs) * 0.1\n",
    "\n",
    "        if self.time > deadline:\n",
    "            base_reward -= 10\n",
    "        else:\n",
    "            base_reward += 5\n",
    "\n",
    "        optimal_resource = 0.7\n",
    "        energy_penalty = 5 * abs(resource_allocation - optimal_resource)\n",
    "        throughput_reward = 10 / (self.time + 1)\n",
    "\n",
    "        reward = base_reward + throughput_reward - energy_penalty\n",
    "\n",
    "        self.done_jobs.append((selected_job, start_time, end_time))\n",
    "\n",
    "        done = len(self.jobs) == 0\n",
    "        info = {\n",
    "            \"start_time\": start_time,\n",
    "            \"end_time\": end_time,\n",
    "        }\n",
    "\n",
    "        return self._get_observation(), reward, done, False, info\n"
   ]
  },
  {
   "cell_type": "code",
   "execution_count": 24,
   "id": "932c396d",
   "metadata": {},
   "outputs": [],
   "source": [
    "def fifo_scheduling(jobs):\n",
    "    time = 0\n",
    "    total_waiting_time = 0\n",
    "    for job in sorted(jobs, key=lambda x: x[0]):  # sort by arrival_time\n",
    "        arrival_time, execution_time, priority, deadline = job[:4]\n",
    "        time = max(time, arrival_time) + execution_time\n",
    "        total_waiting_time += time - arrival_time - execution_time\n",
    "    return total_waiting_time\n",
    "\n",
    "\n",
    "def sjf_scheduling(jobs):\n",
    "    time = 0\n",
    "    total_waiting_time = 0\n",
    "    for job in sorted(jobs, key=lambda x: x[1]):  # sort by execution_time\n",
    "        arrival_time, execution_time, priority, deadline = job[:4]\n",
    "        time = max(time, arrival_time) + execution_time\n",
    "        total_waiting_time += time - arrival_time - execution_time\n",
    "    return total_waiting_time\n",
    "\n",
    "\n",
    "def edf_scheduling(jobs):\n",
    "    time = 0\n",
    "    total_waiting_time = 0\n",
    "    for job in sorted(jobs, key=lambda x: x[3]):  # sort by deadline\n",
    "        arrival_time, execution_time, priority, deadline = job[:4]\n",
    "        time = max(time, arrival_time) + execution_time\n",
    "        if time > deadline:\n",
    "            total_waiting_time += (\n",
    "                time - deadline\n",
    "            ) * 2  # heavier penalty for missing deadline\n",
    "        else:\n",
    "            total_waiting_time += time - arrival_time - execution_time\n",
    "    return total_waiting_time\n",
    "\n",
    "\n",
    "# def rr_scheduling(jobs, quantum=1):\n",
    "#     time = 0\n",
    "#     total_waiting_time = 0\n",
    "#     queue = jobs.copy()\n",
    "\n",
    "#     while queue:\n",
    "#         job = queue.pop(0)\n",
    "#         arrival_time, execution_time, priority, deadline = job[:4]\n",
    "\n",
    "#         if time < arrival_time:\n",
    "#             time = arrival_time\n",
    "\n",
    "#         if execution_time > quantum:\n",
    "#             time += quantum\n",
    "#             queue.append((arrival_time, execution_time - quantum, priority, deadline))\n",
    "#         else:\n",
    "#             time += execution_time\n",
    "#             total_waiting_time += time - arrival_time - execution_time\n",
    "\n",
    "#     return total_waiting_time\n"
   ]
  },
  {
   "cell_type": "code",
   "execution_count": 25,
   "id": "cb7d1f0a",
   "metadata": {},
   "outputs": [
    {
     "data": {
      "application/vnd.jupyter.widget-view+json": {
       "model_id": "ec03a1dfa13f4ae2b5f831cef25e9591",
       "version_major": 2,
       "version_minor": 0
      },
      "text/plain": [
       "Output()"
      ]
     },
     "metadata": {},
     "output_type": "display_data"
    },
    {
     "name": "stdout",
     "output_type": "stream",
     "text": [
      "Training PPO...\n"
     ]
    },
    {
     "data": {
      "text/html": [
       "<pre style=\"white-space:pre;overflow-x:auto;line-height:normal;font-family:Menlo,'DejaVu Sans Mono',consolas,'Courier New',monospace\"></pre>\n"
      ],
      "text/plain": []
     },
     "metadata": {},
     "output_type": "display_data"
    },
    {
     "data": {
      "application/vnd.jupyter.widget-view+json": {
       "model_id": "21da4cf6de9d4c61a9f5197f6d53016a",
       "version_major": 2,
       "version_minor": 0
      },
      "text/plain": [
       "Output()"
      ]
     },
     "metadata": {},
     "output_type": "display_data"
    },
    {
     "name": "stdout",
     "output_type": "stream",
     "text": [
      "Total Reward for PPO: -549.7752264117025\n",
      "Evaluation Reward for PPO: -51.14161458015442\n",
      "Training A2C...\n"
     ]
    },
    {
     "data": {
      "text/html": [
       "<pre style=\"white-space:pre;overflow-x:auto;line-height:normal;font-family:Menlo,'DejaVu Sans Mono',consolas,'Courier New',monospace\"></pre>\n"
      ],
      "text/plain": []
     },
     "metadata": {},
     "output_type": "display_data"
    },
    {
     "data": {
      "application/vnd.jupyter.widget-view+json": {
       "model_id": "b1d941de2d1e43e2b174168e273c2b24",
       "version_major": 2,
       "version_minor": 0
      },
      "text/plain": [
       "Output()"
      ]
     },
     "metadata": {},
     "output_type": "display_data"
    },
    {
     "name": "stdout",
     "output_type": "stream",
     "text": [
      "Total Reward for A2C: -494.67066198164423\n",
      "Evaluation Reward for A2C: -46.14815645217895\n",
      "Training SAC...\n"
     ]
    },
    {
     "data": {
      "text/html": [
       "<pre style=\"white-space:pre;overflow-x:auto;line-height:normal;font-family:Menlo,'DejaVu Sans Mono',consolas,'Courier New',monospace\"></pre>\n"
      ],
      "text/plain": []
     },
     "metadata": {},
     "output_type": "display_data"
    },
    {
     "data": {
      "application/vnd.jupyter.widget-view+json": {
       "model_id": "c4a53bd4089949fb94638b52021c9f67",
       "version_major": 2,
       "version_minor": 0
      },
      "text/plain": [
       "Output()"
      ]
     },
     "metadata": {},
     "output_type": "display_data"
    },
    {
     "name": "stdout",
     "output_type": "stream",
     "text": [
      "Total Reward for SAC: -428.7120233531356\n",
      "Evaluation Reward for SAC: -42.855403423309326\n",
      "Training TD3...\n"
     ]
    },
    {
     "data": {
      "text/html": [
       "<pre style=\"white-space:pre;overflow-x:auto;line-height:normal;font-family:Menlo,'DejaVu Sans Mono',consolas,'Courier New',monospace\"></pre>\n"
      ],
      "text/plain": []
     },
     "metadata": {},
     "output_type": "display_data"
    },
    {
     "data": {
      "application/vnd.jupyter.widget-view+json": {
       "model_id": "f2fb1c4fee0e45e2bfd7e0581e373f80",
       "version_major": 2,
       "version_minor": 0
      },
      "text/plain": [
       "Output()"
      ]
     },
     "metadata": {},
     "output_type": "display_data"
    },
    {
     "data": {
      "text/html": [
       "<pre style=\"white-space:pre;overflow-x:auto;line-height:normal;font-family:Menlo,'DejaVu Sans Mono',consolas,'Courier New',monospace\"></pre>\n"
      ],
      "text/plain": []
     },
     "metadata": {},
     "output_type": "display_data"
    },
    {
     "name": "stdout",
     "output_type": "stream",
     "text": [
      "Total Reward for DDPG: -418.46438271957777\n",
      "Evaluation Reward for DDPG: -45.1791485786438\n"
     ]
    },
    {
     "data": {
      "image/png": "[encoded data removed]",
      "text/plain": [
       "<Figure size 640x480 with 1 Axes>"
      ]
     },
     "metadata": {},
     "output_type": "display_data"
    }
   ],
   "source": [
    "algos = {\"PPO\": PPO, \"A2C\": A2C, \"SAC\": SAC, \"TD3\": TD3,  \"DDPG\": DDPG}\n",
    "results = {}\n",
    "\n",
    "\n",
    "env = JobSchedulingEnv(num_jobs=5)\n",
    "\n",
    "\n",
    "# Train and evaluate each algorithm\n",
    "\n",
    "\n",
    "for name, algo in algos.items():\n",
    "    print(f\"Training {name}...\")\n",
    "    model = algo(\"MlpPolicy\", env, verbose=0, tensorboard_log=\"./tb_logs/\")\n",
    "    model.set_random_seed(42)\n",
    "    model.learn(total_timesteps=5000, progress_bar=True)\n",
    "\n",
    "    total_reward = 0\n",
    "    for _ in range(10):\n",
    "        obs, _ = env.reset()\n",
    "        done = False\n",
    "        while not done:\n",
    "            action, _ = model.predict(obs)\n",
    "            obs, reward, terminated, truncated, _ = env.step(action)\n",
    "            done = terminated or truncated\n",
    "            total_reward += reward\n",
    "\n",
    "    results[name] = total_reward\n",
    "    \n",
    "    eval_reward, _ = evaluate_policy(model, env, n_eval_episodes=10)\n",
    "    print(f\"Total Reward for {name}: {total_reward}\")\n",
    "    print(f\"Evaluation Reward for {name}: {eval_reward}\")\n",
    "    \n",
    "\n",
    "plt.bar(results.keys(), results.values())\n",
    "plt.xlabel(\"Algorithm\")\n",
    "plt.ylabel(\"Total Reward\")\n",
    "plt.title(\"Comparison of RL Algorithms\")\n",
    "plt.show()\n"
   ]
  },
  {
   "cell_type": "code",
   "execution_count": null,
   "id": "be5ce039",
   "metadata": {},
   "outputs": [
    {
     "data": {
      "application/vnd.jupyter.widget-view+json": {
       "model_id": "b78bd8a1b4104791b742896df88aee1e",
       "version_major": 2,
       "version_minor": 0
      },
      "text/plain": [
       "Output()"
      ]
     },
     "metadata": {},
     "output_type": "display_data"
    },
    {
     "data": {
      "text/html": [
       "<pre style=\"white-space:pre;overflow-x:auto;line-height:normal;font-family:Menlo,'DejaVu Sans Mono',consolas,'Courier New',monospace\"></pre>\n"
      ],
      "text/plain": []
     },
     "metadata": {},
     "output_type": "display_data"
    },
    {
     "name": "stdout",
     "output_type": "stream",
     "text": [
      "Average Reward: -38.911716644084116\n"
     ]
    },
    {
     "ename": "AttributeError",
     "evalue": "'JobSchedulingEnv' object has no attribute 'total_waiting_time'",
     "output_type": "error",
     "traceback": [
      "\u001b[31m---------------------------------------------------------------------------\u001b[39m",
      "\u001b[31mAttributeError\u001b[39m                            Traceback (most recent call last)",
      "\u001b[36mCell\u001b[39m\u001b[36m \u001b[39m\u001b[32mIn[26]\u001b[39m\u001b[32m, line 30\u001b[39m\n\u001b[32m     27\u001b[39m eval_reward, _ = evaluate_policy(model, env, n_eval_episodes=\u001b[32m10\u001b[39m)\n\u001b[32m     29\u001b[39m \u001b[38;5;28mprint\u001b[39m(\u001b[33m\"\u001b[39m\u001b[33mAverage Reward:\u001b[39m\u001b[33m\"\u001b[39m, np.mean(rewards))\n\u001b[32m---> \u001b[39m\u001b[32m30\u001b[39m \u001b[38;5;28mprint\u001b[39m(\u001b[33m\"\u001b[39m\u001b[33mTotal Waiting Time:\u001b[39m\u001b[33m\"\u001b[39m, \u001b[43menv\u001b[49m\u001b[43m.\u001b[49m\u001b[43mtotal_waiting_time\u001b[49m)\n\u001b[32m     31\u001b[39m \u001b[38;5;28mprint\u001b[39m(\u001b[33mf\u001b[39m\u001b[33m\"\u001b[39m\u001b[33mEvaluation Reward for \u001b[39m\u001b[38;5;132;01m{\u001b[39;00mALGO\u001b[38;5;132;01m}\u001b[39;00m\u001b[33m: \u001b[39m\u001b[38;5;132;01m{\u001b[39;00meval_reward\u001b[38;5;132;01m}\u001b[39;00m\u001b[33m\"\u001b[39m)\n",
      "\u001b[31mAttributeError\u001b[39m: 'JobSchedulingEnv' object has no attribute 'total_waiting_time'"
     ]
    }
   ],
   "source": [
    "ALGO = \"SAC\"\n",
    "POLICY = \"MlpPolicy\"\n",
    "\n",
    "\n",
    "env = JobSchedulingEnv(num_jobs=5)\n",
    "\n",
    "model = algos[ALGO](POLICY, env, verbose=0, tensorboard_log=\"./tb_logs/\")\n",
    "\n",
    "model.set_random_seed(86)\n",
    "model.learn(total_timesteps=20000, progress_bar=True)\n",
    "\n",
    "# obs, _ = env.reset()\n",
    "# done = False\n",
    "rewards = []\n",
    "\n",
    "for _ in range(10):  # Test for 10 episodes\n",
    "    obs, _ = env.reset()\n",
    "    done = False\n",
    "    episode_reward = 0\n",
    "    while not done:\n",
    "        action, _ = model.predict(obs)\n",
    "        obs, reward, terminated, truncated, _ = env.step(action)\n",
    "        done = terminated or truncated\n",
    "        episode_reward += reward\n",
    "    rewards.append(episode_reward)\n",
    "    \n",
    "eval_reward, _ = evaluate_policy(model, env, n_eval_episodes=10)\n",
    "\n",
    "print(\"Average Reward:\", np.mean(rewards))\n",
    "print(f\"Evaluation Reward for {ALGO}: {eval_reward}\")\n"
   ]
  },
  {
   "cell_type": "code",
   "execution_count": 30,
   "id": "59abc39c",
   "metadata": {},
   "outputs": [
    {
     "data": {
      "image/png": "[encoded data removed]",
      "text/plain": [
       "<Figure size 640x480 with 1 Axes>"
      ]
     },
     "metadata": {},
     "output_type": "display_data"
    }
   ],
   "source": [
    "rewards_per_episode = []\n",
    "obs, _ = env.reset()\n",
    "ep_reward = 0\n",
    "\n",
    "for i in range(100):  # total steps\n",
    "    action, _ = model.predict(obs)\n",
    "    obs, reward, done, _, _ = env.step(action)\n",
    "    ep_reward += reward\n",
    "\n",
    "    if done:\n",
    "        rewards_per_episode.append(ep_reward)\n",
    "        obs, _ = env.reset()\n",
    "        ep_reward = 0  # reset reward counter for next episode\n",
    "        \n",
    "plt.plot(rewards_per_episode, label=\"Rewards per Episode\")\n",
    "plt.xlabel(\"Episodes\")\n",
    "plt.ylabel(\"Reward\")\n",
    "plt.title(\"Learning Curve\")\n",
    "plt.legend()\n",
    "plt.show()\n"
   ]
  },
  {
   "cell_type": "code",
   "execution_count": 31,
   "id": "5b82bcdf",
   "metadata": {},
   "outputs": [
    {
     "data": {
      "image/png": "[encoded data removed]",
      "text/plain": [
       "<Figure size 1000x500 with 1 Axes>"
      ]
     },
     "metadata": {},
     "output_type": "display_data"
    }
   ],
   "source": [
    "plt.figure(figsize=(10, 5))\n",
    "plt.plot(rewards, label=\"RL Agent Reward per Step\")\n",
    "fifo = -fifo_scheduling(env.jobs)\n",
    "sjf = -sjf_scheduling(env.jobs)\n",
    "edf = -edf_scheduling(env.jobs)\n",
    "plt.axhline(y=fifo, color=\"r\", linestyle=\"--\", label=\"FIFO Baseline\")\n",
    "plt.axhline(y=sjf, color=\"g\", linestyle=\"--\", label=\"SJF Baseline\")\n",
    "plt.axhline(y=edf, color=\"b\", linestyle=\"--\", label=\"EDF Baseline\")\n",
    "plt.xlabel(\"Steps\")\n",
    "plt.ylabel(\"Reward\")\n",
    "plt.title(\"Reward Over Time in Job Scheduling\")\n",
    "plt.legend()\n",
    "plt.show()\n"
   ]
  },
  {
   "cell_type": "code",
   "execution_count": 32,
   "id": "b1510c5e",
   "metadata": {},
   "outputs": [],
   "source": [
    "model.save(f\"js_model_{ALGO}.zip\")\n"
   ]
  },
  {
   "cell_type": "code",
   "execution_count": 34,
   "id": "dffc9fde",
   "metadata": {},
   "outputs": [
    {
     "name": "stdout",
     "output_type": "stream",
     "text": [
      "Loaded Model Average Reward: -8.979825551677251\n",
      "Loaded Model Done Jobs: 5\n"
     ]
    }
   ],
   "source": [
    "loaded_model = algos[ALGO].load(f\"js_model_{ALGO}.zip\", env=env)\n",
    "obs, _ = env.reset()\n",
    "done = False\n",
    "rewards = []\n",
    "while not done:\n",
    "    action, _ = loaded_model.predict(obs)\n",
    "    obs, reward, terminated, truncated, _ = env.step(action)\n",
    "    done = terminated or truncated\n",
    "    rewards.append(reward)\n",
    "print(\"Loaded Model Average Reward:\", np.mean(rewards))\n",
    "print(\"Loaded Model Done Jobs:\", len(env.done_jobs))"
   ]
  },
  {
   "cell_type": "code",
   "execution_count": null,
   "id": "18d660a6",
   "metadata": {},
   "outputs": [],
   "source": []
  }
 ],
 "metadata": {
  "kernelspec": {
   "display_name": ".venv (3.11.9)",
   "language": "python",
   "name": "python3"
  },
  "language_info": {
   "codemirror_mode": {
    "name": "ipython",
    "version": 3
   },
   "file_extension": ".py",
   "mimetype": "text/x-python",
   "name": "python",
   "nbconvert_exporter": "python",
   "pygments_lexer": "ipython3",
   "version": "3.11.9"
  }
 },
 "nbformat": 4,
 "nbformat_minor": 5
}
