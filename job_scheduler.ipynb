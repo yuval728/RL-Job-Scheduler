{
 "cells": [
  {
   "cell_type": "code",
   "execution_count": null,
   "id": "a3d128e1",
   "metadata": {},
   "outputs": [],
   "source": [
    "import gymnasium as gym\n",
    "from gymnasium import spaces\n",
    "import numpy as np\n",
    "import random\n",
    "from stable_baselines3 import PPO, A2C, SAC, DQN, TD3, DDPG\n",
    "import matplotlib.pyplot as plt\n",
    "\n",
    "\n",
    "class JobSchedulingEnv(gym.Env):\n",
    "    def __init__(self, num_jobs=5):\n",
    "        super(JobSchedulingEnv, self).__init__()\n",
    "        self.num_jobs = num_jobs\n",
    "\n",
    "        # Each job has 6 features:\n",
    "        # (arrival_time, execution_time, priority, deadline, cpu_requirement, job_type)\n",
    "        # job_type: 0 for I/O-bound, 1 for CPU-bound\n",
    "        self.jobs = []\n",
    "        self.backup_jobs = []\n",
    "\n",
    "        # Joint action space:\n",
    "        # First num_jobs dimensions: scheduling scores (continuous in [0,1])\n",
    "        # Last dimension: resource allocation decision (continuous in [0,1])\n",
    "        self.action_space = spaces.Box(\n",
    "            low=0, high=1, shape=(num_jobs + 1,), dtype=np.float32\n",
    "        )\n",
    "\n",
    "        # Observation space: Each job is represented by 6 features.\n",
    "        self.observation_space = spaces.Box(\n",
    "            low=0, high=100, shape=(num_jobs, 6), dtype=np.float32\n",
    "        )\n",
    "\n",
    "        self.reset()\n",
    "\n",
    "    def reset(self, seed=None, options=None):\n",
    "        if seed is not None:\n",
    "            random.seed(seed)\n",
    "            np.random.seed(seed)\n",
    "\n",
    "        arrival_times = np.sort(\n",
    "            np.random.normal(loc=5, scale=2, size=self.num_jobs)\n",
    "        )  # Clustered arrivals\n",
    "        arrival_times = np.clip(arrival_times, 0, 10) / 10  # Normalize to [0,1]\n",
    "\n",
    "        execution_times = (\n",
    "            np.clip(np.random.normal(loc=5, scale=2, size=self.num_jobs), 1, 10) / 10\n",
    "        )\n",
    "        priorities = (\n",
    "            np.random.choice(\n",
    "                [1, 2, 3, 4, 5], self.num_jobs, p=[0.1, 0.2, 0.4, 0.2, 0.1]\n",
    "            )\n",
    "            / 5\n",
    "        )\n",
    "        deadlines = (\n",
    "            arrival_times\n",
    "            + execution_times\n",
    "            + np.random.randint(3, 10, size=self.num_jobs)\n",
    "        ) / 20\n",
    "        cpu_requirements = np.random.randint(1, 11, size=self.num_jobs) / 10\n",
    "        job_types = np.random.choice([0, 1], self.num_jobs)  # I/O or CPU bound\n",
    "\n",
    "        self.jobs = list(\n",
    "            zip(\n",
    "                arrival_times,\n",
    "                execution_times,\n",
    "                priorities,\n",
    "                deadlines,\n",
    "                cpu_requirements,\n",
    "                job_types,\n",
    "            )\n",
    "        )\n",
    "        self.jobs.sort(key=lambda x: x[0])\n",
    "        self.backup_jobs = self.jobs.copy()  # keep a backup for baselines\n",
    "        self.time = 0  # simulation time\n",
    "        self.done_jobs = []\n",
    "        self.total_waiting_time = 0\n",
    "\n",
    "        return self._get_observation(), {}\n",
    "\n",
    "    def _get_observation(self):\n",
    "        obs = np.zeros((self.num_jobs, 6), dtype=np.float32)\n",
    "        for i, job in enumerate(self.jobs):\n",
    "            obs[i] = job\n",
    "        return obs\n",
    "\n",
    "    # def _get_observation(self):\n",
    "    #     if len(self.jobs) == 0:\n",
    "    #         return np.zeros((self.num_jobs, 6), dtype=np.float32)\n",
    "    #     obs = np.array([job for job in self.jobs], dtype=np.float32)\n",
    "\n",
    "    #     if len(obs) < self.num_jobs:\n",
    "    #         padding = np.zeros((self.num_jobs - len(obs), 6), dtype=np.float32)\n",
    "    #         obs = np.vstack([obs, padding])\n",
    "    #     return obs\n",
    "    def step(self, action):\n",
    "        scheduling_scores = action[: self.num_jobs]\n",
    "        resource_allocation = action[-1]\n",
    "\n",
    "        job_index = int(np.argmax(scheduling_scores))\n",
    "\n",
    "        if job_index >= len(self.jobs):\n",
    "            return self._get_observation(), -10, True, False, {}\n",
    "\n",
    "        selected_job = self.jobs.pop(job_index)\n",
    "        arrival_time, execution_time, priority, deadline, cpu_req, job_type = (\n",
    "            selected_job\n",
    "        )\n",
    "\n",
    "        # Advance simulation time\n",
    "        self.time = max(self.time, arrival_time) + execution_time\n",
    "\n",
    "        # Compute waiting time and base reward.\n",
    "        waiting_time = self.time - arrival_time - execution_time\n",
    "        self.total_waiting_time += waiting_time\n",
    "        base_reward = -waiting_time - (execution_time / priority) - len(self.jobs) * 0.1\n",
    "\n",
    "        # Deadline-based reward adjustment:\n",
    "        if self.time > deadline:\n",
    "            base_reward -= 10  # penalty for missing deadline\n",
    "        else:\n",
    "            base_reward += 5  # bonus for meeting deadline\n",
    "\n",
    "        # Energy consumption penalty based on resource allocation decision.\n",
    "        # Assume an optimal resource allocation value. Deviations incur a penalty.\n",
    "        optimal_resource = 0.7\n",
    "        energy_penalty = 5 * abs(resource_allocation - optimal_resource)\n",
    "\n",
    "        throughput_reward = 10 / (self.time + 1)\n",
    "        # efficiency_bonus = 5 * (1 - abs(resource_allocation - optimal_resource))\n",
    "\n",
    "        reward = base_reward + throughput_reward - energy_penalty\n",
    "\n",
    "        self.done_jobs.append(selected_job)\n",
    "        done = len(self.jobs) == 0\n",
    "\n",
    "        return self._get_observation(), reward, done, False, {}\n"
   ]
  },
  {
   "cell_type": "code",
   "execution_count": 2,
   "id": "932c396d",
   "metadata": {},
   "outputs": [],
   "source": [
    "def fifo_scheduling(jobs):\n",
    "    time = 0\n",
    "    total_waiting_time = 0\n",
    "    for job in sorted(jobs, key=lambda x: x[0]):  # sort by arrival_time\n",
    "        arrival_time, execution_time, priority, deadline = job[:4]\n",
    "        time = max(time, arrival_time) + execution_time\n",
    "        total_waiting_time += time - arrival_time - execution_time\n",
    "    return total_waiting_time\n",
    "\n",
    "\n",
    "def sjf_scheduling(jobs):\n",
    "    time = 0\n",
    "    total_waiting_time = 0\n",
    "    for job in sorted(jobs, key=lambda x: x[1]):  # sort by execution_time\n",
    "        arrival_time, execution_time, priority, deadline = job[:4]\n",
    "        time = max(time, arrival_time) + execution_time\n",
    "        total_waiting_time += time - arrival_time - execution_time\n",
    "    return total_waiting_time\n",
    "\n",
    "\n",
    "def edf_scheduling(jobs):\n",
    "    time = 0\n",
    "    total_waiting_time = 0\n",
    "    for job in sorted(jobs, key=lambda x: x[3]):  # sort by deadline\n",
    "        arrival_time, execution_time, priority, deadline = job[:4]\n",
    "        time = max(time, arrival_time) + execution_time\n",
    "        if time > deadline:\n",
    "            total_waiting_time += (\n",
    "                time - deadline\n",
    "            ) * 2  # heavier penalty for missing deadline\n",
    "        else:\n",
    "            total_waiting_time += time - arrival_time - execution_time\n",
    "    return total_waiting_time\n",
    "\n",
    "\n",
    "def rr_scheduling(jobs, quantum=1):\n",
    "    time = 0\n",
    "    total_waiting_time = 0\n",
    "    queue = jobs.copy()\n",
    "\n",
    "    while queue:\n",
    "        job = queue.pop(0)\n",
    "        arrival_time, execution_time, priority, deadline = job[:4]\n",
    "\n",
    "        if time < arrival_time:\n",
    "            time = arrival_time\n",
    "\n",
    "        if execution_time > quantum:\n",
    "            time += quantum\n",
    "            queue.append((arrival_time, execution_time - quantum, priority, deadline))\n",
    "        else:\n",
    "            time += execution_time\n",
    "            total_waiting_time += time - arrival_time - execution_time\n",
    "\n",
    "    return total_waiting_time\n"
   ]
  },
  {
   "cell_type": "code",
   "execution_count": null,
   "id": "cb7d1f0a",
   "metadata": {},
   "outputs": [
    {
     "data": {
      "application/vnd.jupyter.widget-view+json": {
       "model_id": "ddfa249c5c6346a89c26baf0c97cd2d8",
       "version_major": 2,
       "version_minor": 0
      },
      "text/plain": [
       "Output()"
      ]
     },
     "metadata": {},
     "output_type": "display_data"
    },
    {
     "data": {
      "text/html": [
       "<pre style=\"white-space:pre;overflow-x:auto;line-height:normal;font-family:Menlo,'DejaVu Sans Mono',consolas,'Courier New',monospace\"></pre>\n"
      ],
      "text/plain": []
     },
     "metadata": {},
     "output_type": "display_data"
    },
    {
     "data": {
      "application/vnd.jupyter.widget-view+json": {
       "model_id": "bf3f4258c4624e9a914a351532393113",
       "version_major": 2,
       "version_minor": 0
      },
      "text/plain": [
       "Output()"
      ]
     },
     "metadata": {},
     "output_type": "display_data"
    },
    {
     "data": {
      "text/html": [
       "<pre style=\"white-space:pre;overflow-x:auto;line-height:normal;font-family:Menlo,'DejaVu Sans Mono',consolas,'Courier New',monospace\"></pre>\n"
      ],
      "text/plain": []
     },
     "metadata": {},
     "output_type": "display_data"
    },
    {
     "data": {
      "application/vnd.jupyter.widget-view+json": {
       "model_id": "dab6e93978c945eb889e75f2954c2495",
       "version_major": 2,
       "version_minor": 0
      },
      "text/plain": [
       "Output()"
      ]
     },
     "metadata": {},
     "output_type": "display_data"
    },
    {
     "data": {
      "text/html": [
       "<pre style=\"white-space:pre;overflow-x:auto;line-height:normal;font-family:Menlo,'DejaVu Sans Mono',consolas,'Courier New',monospace\"></pre>\n"
      ],
      "text/plain": []
     },
     "metadata": {},
     "output_type": "display_data"
    },
    {
     "data": {
      "image/png": "[encoded data removed]",
      "text/plain": [
       "<Figure size 640x480 with 1 Axes>"
      ]
     },
     "metadata": {},
     "output_type": "display_data"
    }
   ],
   "source": [
    "algos = {\"PPO\": PPO, \"A2C\": A2C, \"SAC\": SAC, \"DQN\": DQN, \"TD3\": TD3,  \"DDPG\": DDPG}\n",
    "results = {}\n",
    "\n",
    "\n",
    "env = JobSchedulingEnv(num_jobs=5)\n",
    "\n",
    "for name, algo in algos.items():\n",
    "    model = algo(\"MlpPolicy\", env, verbose=0, tensorboard_log=\"./tb_logs/\")\n",
    "    model.set_random_seed(42)\n",
    "    model.learn(total_timesteps=5000, progress_bar=True)\n",
    "\n",
    "    total_reward = 0\n",
    "    for _ in range(10):\n",
    "        obs, _ = env.reset()\n",
    "        done = False\n",
    "        while not done:\n",
    "            action, _ = model.predict(obs)\n",
    "            obs, reward, terminated, truncated, _ = env.step(action)\n",
    "            done = terminated or truncated\n",
    "            total_reward += reward\n",
    "\n",
    "    results[name] = total_reward\n",
    "\n",
    "plt.bar(results.keys(), results.values())\n",
    "plt.xlabel(\"Algorithm\")\n",
    "plt.ylabel(\"Total Reward\")\n",
    "plt.title(\"Comparison of RL Algorithms\")\n",
    "plt.show()\n"
   ]
  },
  {
   "cell_type": "code",
   "execution_count": 4,
   "id": "be5ce039",
   "metadata": {},
   "outputs": [
    {
     "data": {
      "application/vnd.jupyter.widget-view+json": {
       "model_id": "4457c4a02ea646dcb8b1481fb4245973",
       "version_major": 2,
       "version_minor": 0
      },
      "text/plain": [
       "Output()"
      ]
     },
     "metadata": {},
     "output_type": "display_data"
    },
    {
     "ename": "KeyboardInterrupt",
     "evalue": "",
     "output_type": "error",
     "traceback": [
      "\u001b[31m---------------------------------------------------------------------------\u001b[39m",
      "\u001b[31mKeyboardInterrupt\u001b[39m                         Traceback (most recent call last)",
      "\u001b[36mCell\u001b[39m\u001b[36m \u001b[39m\u001b[32mIn[4]\u001b[39m\u001b[32m, line 15\u001b[39m\n\u001b[32m     12\u001b[39m     model = PPO(POLICY, env, verbose=\u001b[32m0\u001b[39m, tensorboard_log=\u001b[33m\"\u001b[39m\u001b[33m./tb_logs/\u001b[39m\u001b[33m\"\u001b[39m)\n\u001b[32m     14\u001b[39m model.set_random_seed(\u001b[32m42\u001b[39m)\n\u001b[32m---> \u001b[39m\u001b[32m15\u001b[39m \u001b[43mmodel\u001b[49m\u001b[43m.\u001b[49m\u001b[43mlearn\u001b[49m\u001b[43m(\u001b[49m\u001b[43mtotal_timesteps\u001b[49m\u001b[43m=\u001b[49m\u001b[32;43m20000\u001b[39;49m\u001b[43m,\u001b[49m\u001b[43m \u001b[49m\u001b[43mprogress_bar\u001b[49m\u001b[43m=\u001b[49m\u001b[38;5;28;43;01mTrue\u001b[39;49;00m\u001b[43m)\u001b[49m\n\u001b[32m     17\u001b[39m \u001b[38;5;66;03m# obs, _ = env.reset()\u001b[39;00m\n\u001b[32m     18\u001b[39m \u001b[38;5;66;03m# done = False\u001b[39;00m\n\u001b[32m     19\u001b[39m rewards = []\n",
      "\u001b[36mFile \u001b[39m\u001b[32mc:\\Users\\Yuval\\Desktop\\SEM XII\\RL\\Job-Scheduler\\.venv\\Lib\\site-packages\\stable_baselines3\\sac\\sac.py:308\u001b[39m, in \u001b[36mSAC.learn\u001b[39m\u001b[34m(self, total_timesteps, callback, log_interval, tb_log_name, reset_num_timesteps, progress_bar)\u001b[39m\n\u001b[32m    299\u001b[39m \u001b[38;5;28;01mdef\u001b[39;00m\u001b[38;5;250m \u001b[39m\u001b[34mlearn\u001b[39m(\n\u001b[32m    300\u001b[39m     \u001b[38;5;28mself\u001b[39m: SelfSAC,\n\u001b[32m    301\u001b[39m     total_timesteps: \u001b[38;5;28mint\u001b[39m,\n\u001b[32m   (...)\u001b[39m\u001b[32m    306\u001b[39m     progress_bar: \u001b[38;5;28mbool\u001b[39m = \u001b[38;5;28;01mFalse\u001b[39;00m,\n\u001b[32m    307\u001b[39m ) -> SelfSAC:\n\u001b[32m--> \u001b[39m\u001b[32m308\u001b[39m     \u001b[38;5;28;01mreturn\u001b[39;00m \u001b[38;5;28;43msuper\u001b[39;49m\u001b[43m(\u001b[49m\u001b[43m)\u001b[49m\u001b[43m.\u001b[49m\u001b[43mlearn\u001b[49m\u001b[43m(\u001b[49m\n\u001b[32m    309\u001b[39m \u001b[43m        \u001b[49m\u001b[43mtotal_timesteps\u001b[49m\u001b[43m=\u001b[49m\u001b[43mtotal_timesteps\u001b[49m\u001b[43m,\u001b[49m\n\u001b[32m    310\u001b[39m \u001b[43m        \u001b[49m\u001b[43mcallback\u001b[49m\u001b[43m=\u001b[49m\u001b[43mcallback\u001b[49m\u001b[43m,\u001b[49m\n\u001b[32m    311\u001b[39m \u001b[43m        \u001b[49m\u001b[43mlog_interval\u001b[49m\u001b[43m=\u001b[49m\u001b[43mlog_interval\u001b[49m\u001b[43m,\u001b[49m\n\u001b[32m    312\u001b[39m \u001b[43m        \u001b[49m\u001b[43mtb_log_name\u001b[49m\u001b[43m=\u001b[49m\u001b[43mtb_log_name\u001b[49m\u001b[43m,\u001b[49m\n\u001b[32m    313\u001b[39m \u001b[43m        \u001b[49m\u001b[43mreset_num_timesteps\u001b[49m\u001b[43m=\u001b[49m\u001b[43mreset_num_timesteps\u001b[49m\u001b[43m,\u001b[49m\n\u001b[32m    314\u001b[39m \u001b[43m        \u001b[49m\u001b[43mprogress_bar\u001b[49m\u001b[43m=\u001b[49m\u001b[43mprogress_bar\u001b[49m\u001b[43m,\u001b[49m\n\u001b[32m    315\u001b[39m \u001b[43m    \u001b[49m\u001b[43m)\u001b[49m\n",
      "\u001b[36mFile \u001b[39m\u001b[32mc:\\Users\\Yuval\\Desktop\\SEM XII\\RL\\Job-Scheduler\\.venv\\Lib\\site-packages\\stable_baselines3\\common\\off_policy_algorithm.py:328\u001b[39m, in \u001b[36mOffPolicyAlgorithm.learn\u001b[39m\u001b[34m(self, total_timesteps, callback, log_interval, tb_log_name, reset_num_timesteps, progress_bar)\u001b[39m\n\u001b[32m    325\u001b[39m \u001b[38;5;28;01massert\u001b[39;00m \u001b[38;5;28misinstance\u001b[39m(\u001b[38;5;28mself\u001b[39m.train_freq, TrainFreq)  \u001b[38;5;66;03m# check done in _setup_learn()\u001b[39;00m\n\u001b[32m    327\u001b[39m \u001b[38;5;28;01mwhile\u001b[39;00m \u001b[38;5;28mself\u001b[39m.num_timesteps < total_timesteps:\n\u001b[32m--> \u001b[39m\u001b[32m328\u001b[39m     rollout = \u001b[38;5;28;43mself\u001b[39;49m\u001b[43m.\u001b[49m\u001b[43mcollect_rollouts\u001b[49m\u001b[43m(\u001b[49m\n\u001b[32m    329\u001b[39m \u001b[43m        \u001b[49m\u001b[38;5;28;43mself\u001b[39;49m\u001b[43m.\u001b[49m\u001b[43menv\u001b[49m\u001b[43m,\u001b[49m\n\u001b[32m    330\u001b[39m \u001b[43m        \u001b[49m\u001b[43mtrain_freq\u001b[49m\u001b[43m=\u001b[49m\u001b[38;5;28;43mself\u001b[39;49m\u001b[43m.\u001b[49m\u001b[43mtrain_freq\u001b[49m\u001b[43m,\u001b[49m\n\u001b[32m    331\u001b[39m \u001b[43m        \u001b[49m\u001b[43maction_noise\u001b[49m\u001b[43m=\u001b[49m\u001b[38;5;28;43mself\u001b[39;49m\u001b[43m.\u001b[49m\u001b[43maction_noise\u001b[49m\u001b[43m,\u001b[49m\n\u001b[32m    332\u001b[39m \u001b[43m        \u001b[49m\u001b[43mcallback\u001b[49m\u001b[43m=\u001b[49m\u001b[43mcallback\u001b[49m\u001b[43m,\u001b[49m\n\u001b[32m    333\u001b[39m \u001b[43m        \u001b[49m\u001b[43mlearning_starts\u001b[49m\u001b[43m=\u001b[49m\u001b[38;5;28;43mself\u001b[39;49m\u001b[43m.\u001b[49m\u001b[43mlearning_starts\u001b[49m\u001b[43m,\u001b[49m\n\u001b[32m    334\u001b[39m \u001b[43m        \u001b[49m\u001b[43mreplay_buffer\u001b[49m\u001b[43m=\u001b[49m\u001b[38;5;28;43mself\u001b[39;49m\u001b[43m.\u001b[49m\u001b[43mreplay_buffer\u001b[49m\u001b[43m,\u001b[49m\n\u001b[32m    335\u001b[39m \u001b[43m        \u001b[49m\u001b[43mlog_interval\u001b[49m\u001b[43m=\u001b[49m\u001b[43mlog_interval\u001b[49m\u001b[43m,\u001b[49m\n\u001b[32m    336\u001b[39m \u001b[43m    \u001b[49m\u001b[43m)\u001b[49m\n\u001b[32m    338\u001b[39m     \u001b[38;5;28;01mif\u001b[39;00m \u001b[38;5;129;01mnot\u001b[39;00m rollout.continue_training:\n\u001b[32m    339\u001b[39m         \u001b[38;5;28;01mbreak\u001b[39;00m\n",
      "\u001b[36mFile \u001b[39m\u001b[32mc:\\Users\\Yuval\\Desktop\\SEM XII\\RL\\Job-Scheduler\\.venv\\Lib\\site-packages\\stable_baselines3\\common\\off_policy_algorithm.py:557\u001b[39m, in \u001b[36mOffPolicyAlgorithm.collect_rollouts\u001b[39m\u001b[34m(self, env, callback, train_freq, replay_buffer, action_noise, learning_starts, log_interval)\u001b[39m\n\u001b[32m    554\u001b[39m     \u001b[38;5;28mself\u001b[39m.actor.reset_noise(env.num_envs)  \u001b[38;5;66;03m# type: ignore[operator]\u001b[39;00m\n\u001b[32m    556\u001b[39m \u001b[38;5;66;03m# Select action randomly or according to policy\u001b[39;00m\n\u001b[32m--> \u001b[39m\u001b[32m557\u001b[39m actions, buffer_actions = \u001b[38;5;28;43mself\u001b[39;49m\u001b[43m.\u001b[49m\u001b[43m_sample_action\u001b[49m\u001b[43m(\u001b[49m\u001b[43mlearning_starts\u001b[49m\u001b[43m,\u001b[49m\u001b[43m \u001b[49m\u001b[43maction_noise\u001b[49m\u001b[43m,\u001b[49m\u001b[43m \u001b[49m\u001b[43menv\u001b[49m\u001b[43m.\u001b[49m\u001b[43mnum_envs\u001b[49m\u001b[43m)\u001b[49m\n\u001b[32m    559\u001b[39m \u001b[38;5;66;03m# Rescale and perform action\u001b[39;00m\n\u001b[32m    560\u001b[39m new_obs, rewards, dones, infos = env.step(actions)\n",
      "\u001b[36mFile \u001b[39m\u001b[32mc:\\Users\\Yuval\\Desktop\\SEM XII\\RL\\Job-Scheduler\\.venv\\Lib\\site-packages\\stable_baselines3\\common\\off_policy_algorithm.py:390\u001b[39m, in \u001b[36mOffPolicyAlgorithm._sample_action\u001b[39m\u001b[34m(self, learning_starts, action_noise, n_envs)\u001b[39m\n\u001b[32m    385\u001b[39m \u001b[38;5;28;01melse\u001b[39;00m:\n\u001b[32m    386\u001b[39m     \u001b[38;5;66;03m# Note: when using continuous actions,\u001b[39;00m\n\u001b[32m    387\u001b[39m     \u001b[38;5;66;03m# we assume that the policy uses tanh to scale the action\u001b[39;00m\n\u001b[32m    388\u001b[39m     \u001b[38;5;66;03m# We use non-deterministic action in the case of SAC, for TD3, it does not matter\u001b[39;00m\n\u001b[32m    389\u001b[39m     \u001b[38;5;28;01massert\u001b[39;00m \u001b[38;5;28mself\u001b[39m._last_obs \u001b[38;5;129;01mis\u001b[39;00m \u001b[38;5;129;01mnot\u001b[39;00m \u001b[38;5;28;01mNone\u001b[39;00m, \u001b[33m\"\u001b[39m\u001b[33mself._last_obs was not set\u001b[39m\u001b[33m\"\u001b[39m\n\u001b[32m--> \u001b[39m\u001b[32m390\u001b[39m     unscaled_action, _ = \u001b[38;5;28;43mself\u001b[39;49m\u001b[43m.\u001b[49m\u001b[43mpredict\u001b[49m\u001b[43m(\u001b[49m\u001b[38;5;28;43mself\u001b[39;49m\u001b[43m.\u001b[49m\u001b[43m_last_obs\u001b[49m\u001b[43m,\u001b[49m\u001b[43m \u001b[49m\u001b[43mdeterministic\u001b[49m\u001b[43m=\u001b[49m\u001b[38;5;28;43;01mFalse\u001b[39;49;00m\u001b[43m)\u001b[49m\n\u001b[32m    392\u001b[39m \u001b[38;5;66;03m# Rescale the action from [low, high] to [-1, 1]\u001b[39;00m\n\u001b[32m    393\u001b[39m \u001b[38;5;28;01mif\u001b[39;00m \u001b[38;5;28misinstance\u001b[39m(\u001b[38;5;28mself\u001b[39m.action_space, spaces.Box):\n",
      "\u001b[36mFile \u001b[39m\u001b[32mc:\\Users\\Yuval\\Desktop\\SEM XII\\RL\\Job-Scheduler\\.venv\\Lib\\site-packages\\stable_baselines3\\common\\base_class.py:557\u001b[39m, in \u001b[36mBaseAlgorithm.predict\u001b[39m\u001b[34m(self, observation, state, episode_start, deterministic)\u001b[39m\n\u001b[32m    537\u001b[39m \u001b[38;5;28;01mdef\u001b[39;00m\u001b[38;5;250m \u001b[39m\u001b[34mpredict\u001b[39m(\n\u001b[32m    538\u001b[39m     \u001b[38;5;28mself\u001b[39m,\n\u001b[32m    539\u001b[39m     observation: Union[np.ndarray, \u001b[38;5;28mdict\u001b[39m[\u001b[38;5;28mstr\u001b[39m, np.ndarray]],\n\u001b[32m   (...)\u001b[39m\u001b[32m    542\u001b[39m     deterministic: \u001b[38;5;28mbool\u001b[39m = \u001b[38;5;28;01mFalse\u001b[39;00m,\n\u001b[32m    543\u001b[39m ) -> \u001b[38;5;28mtuple\u001b[39m[np.ndarray, Optional[\u001b[38;5;28mtuple\u001b[39m[np.ndarray, ...]]]:\n\u001b[32m    544\u001b[39m \u001b[38;5;250m    \u001b[39m\u001b[33;03m\"\"\"\u001b[39;00m\n\u001b[32m    545\u001b[39m \u001b[33;03m    Get the policy action from an observation (and optional hidden state).\u001b[39;00m\n\u001b[32m    546\u001b[39m \u001b[33;03m    Includes sugar-coating to handle different observations (e.g. normalizing images).\u001b[39;00m\n\u001b[32m   (...)\u001b[39m\u001b[32m    555\u001b[39m \u001b[33;03m        (used in recurrent policies)\u001b[39;00m\n\u001b[32m    556\u001b[39m \u001b[33;03m    \"\"\"\u001b[39;00m\n\u001b[32m--> \u001b[39m\u001b[32m557\u001b[39m     \u001b[38;5;28;01mreturn\u001b[39;00m \u001b[38;5;28;43mself\u001b[39;49m\u001b[43m.\u001b[49m\u001b[43mpolicy\u001b[49m\u001b[43m.\u001b[49m\u001b[43mpredict\u001b[49m\u001b[43m(\u001b[49m\u001b[43mobservation\u001b[49m\u001b[43m,\u001b[49m\u001b[43m \u001b[49m\u001b[43mstate\u001b[49m\u001b[43m,\u001b[49m\u001b[43m \u001b[49m\u001b[43mepisode_start\u001b[49m\u001b[43m,\u001b[49m\u001b[43m \u001b[49m\u001b[43mdeterministic\u001b[49m\u001b[43m)\u001b[49m\n",
      "\u001b[36mFile \u001b[39m\u001b[32mc:\\Users\\Yuval\\Desktop\\SEM XII\\RL\\Job-Scheduler\\.venv\\Lib\\site-packages\\stable_baselines3\\common\\policies.py:368\u001b[39m, in \u001b[36mBasePolicy.predict\u001b[39m\u001b[34m(self, observation, state, episode_start, deterministic)\u001b[39m\n\u001b[32m    365\u001b[39m obs_tensor, vectorized_env = \u001b[38;5;28mself\u001b[39m.obs_to_tensor(observation)\n\u001b[32m    367\u001b[39m \u001b[38;5;28;01mwith\u001b[39;00m th.no_grad():\n\u001b[32m--> \u001b[39m\u001b[32m368\u001b[39m     actions = \u001b[38;5;28;43mself\u001b[39;49m\u001b[43m.\u001b[49m\u001b[43m_predict\u001b[49m\u001b[43m(\u001b[49m\u001b[43mobs_tensor\u001b[49m\u001b[43m,\u001b[49m\u001b[43m \u001b[49m\u001b[43mdeterministic\u001b[49m\u001b[43m=\u001b[49m\u001b[43mdeterministic\u001b[49m\u001b[43m)\u001b[49m\n\u001b[32m    369\u001b[39m \u001b[38;5;66;03m# Convert to numpy, and reshape to the original action shape\u001b[39;00m\n\u001b[32m    370\u001b[39m actions = actions.cpu().numpy().reshape((-\u001b[32m1\u001b[39m, *\u001b[38;5;28mself\u001b[39m.action_space.shape))  \u001b[38;5;66;03m# type: ignore[misc, assignment]\u001b[39;00m\n",
      "\u001b[36mFile \u001b[39m\u001b[32mc:\\Users\\Yuval\\Desktop\\SEM XII\\RL\\Job-Scheduler\\.venv\\Lib\\site-packages\\stable_baselines3\\sac\\policies.py:353\u001b[39m, in \u001b[36mSACPolicy._predict\u001b[39m\u001b[34m(self, observation, deterministic)\u001b[39m\n\u001b[32m    352\u001b[39m \u001b[38;5;28;01mdef\u001b[39;00m\u001b[38;5;250m \u001b[39m\u001b[34m_predict\u001b[39m(\u001b[38;5;28mself\u001b[39m, observation: PyTorchObs, deterministic: \u001b[38;5;28mbool\u001b[39m = \u001b[38;5;28;01mFalse\u001b[39;00m) -> th.Tensor:\n\u001b[32m--> \u001b[39m\u001b[32m353\u001b[39m     \u001b[38;5;28;01mreturn\u001b[39;00m \u001b[38;5;28;43mself\u001b[39;49m\u001b[43m.\u001b[49m\u001b[43mactor\u001b[49m\u001b[43m(\u001b[49m\u001b[43mobservation\u001b[49m\u001b[43m,\u001b[49m\u001b[43m \u001b[49m\u001b[43mdeterministic\u001b[49m\u001b[43m)\u001b[49m\n",
      "\u001b[36mFile \u001b[39m\u001b[32mc:\\Users\\Yuval\\Desktop\\SEM XII\\RL\\Job-Scheduler\\.venv\\Lib\\site-packages\\torch\\nn\\modules\\module.py:1739\u001b[39m, in \u001b[36mModule._wrapped_call_impl\u001b[39m\u001b[34m(self, *args, **kwargs)\u001b[39m\n\u001b[32m   1737\u001b[39m     \u001b[38;5;28;01mreturn\u001b[39;00m \u001b[38;5;28mself\u001b[39m._compiled_call_impl(*args, **kwargs)  \u001b[38;5;66;03m# type: ignore[misc]\u001b[39;00m\n\u001b[32m   1738\u001b[39m \u001b[38;5;28;01melse\u001b[39;00m:\n\u001b[32m-> \u001b[39m\u001b[32m1739\u001b[39m     \u001b[38;5;28;01mreturn\u001b[39;00m \u001b[38;5;28;43mself\u001b[39;49m\u001b[43m.\u001b[49m\u001b[43m_call_impl\u001b[49m\u001b[43m(\u001b[49m\u001b[43m*\u001b[49m\u001b[43margs\u001b[49m\u001b[43m,\u001b[49m\u001b[43m \u001b[49m\u001b[43m*\u001b[49m\u001b[43m*\u001b[49m\u001b[43mkwargs\u001b[49m\u001b[43m)\u001b[49m\n",
      "\u001b[36mFile \u001b[39m\u001b[32mc:\\Users\\Yuval\\Desktop\\SEM XII\\RL\\Job-Scheduler\\.venv\\Lib\\site-packages\\torch\\nn\\modules\\module.py:1750\u001b[39m, in \u001b[36mModule._call_impl\u001b[39m\u001b[34m(self, *args, **kwargs)\u001b[39m\n\u001b[32m   1745\u001b[39m \u001b[38;5;66;03m# If we don't have any hooks, we want to skip the rest of the logic in\u001b[39;00m\n\u001b[32m   1746\u001b[39m \u001b[38;5;66;03m# this function, and just call forward.\u001b[39;00m\n\u001b[32m   1747\u001b[39m \u001b[38;5;28;01mif\u001b[39;00m \u001b[38;5;129;01mnot\u001b[39;00m (\u001b[38;5;28mself\u001b[39m._backward_hooks \u001b[38;5;129;01mor\u001b[39;00m \u001b[38;5;28mself\u001b[39m._backward_pre_hooks \u001b[38;5;129;01mor\u001b[39;00m \u001b[38;5;28mself\u001b[39m._forward_hooks \u001b[38;5;129;01mor\u001b[39;00m \u001b[38;5;28mself\u001b[39m._forward_pre_hooks\n\u001b[32m   1748\u001b[39m         \u001b[38;5;129;01mor\u001b[39;00m _global_backward_pre_hooks \u001b[38;5;129;01mor\u001b[39;00m _global_backward_hooks\n\u001b[32m   1749\u001b[39m         \u001b[38;5;129;01mor\u001b[39;00m _global_forward_hooks \u001b[38;5;129;01mor\u001b[39;00m _global_forward_pre_hooks):\n\u001b[32m-> \u001b[39m\u001b[32m1750\u001b[39m     \u001b[38;5;28;01mreturn\u001b[39;00m \u001b[43mforward_call\u001b[49m\u001b[43m(\u001b[49m\u001b[43m*\u001b[49m\u001b[43margs\u001b[49m\u001b[43m,\u001b[49m\u001b[43m \u001b[49m\u001b[43m*\u001b[49m\u001b[43m*\u001b[49m\u001b[43mkwargs\u001b[49m\u001b[43m)\u001b[49m\n\u001b[32m   1752\u001b[39m result = \u001b[38;5;28;01mNone\u001b[39;00m\n\u001b[32m   1753\u001b[39m called_always_called_hooks = \u001b[38;5;28mset\u001b[39m()\n",
      "\u001b[36mFile \u001b[39m\u001b[32mc:\\Users\\Yuval\\Desktop\\SEM XII\\RL\\Job-Scheduler\\.venv\\Lib\\site-packages\\stable_baselines3\\sac\\policies.py:170\u001b[39m, in \u001b[36mActor.forward\u001b[39m\u001b[34m(self, obs, deterministic)\u001b[39m\n\u001b[32m    168\u001b[39m mean_actions, log_std, kwargs = \u001b[38;5;28mself\u001b[39m.get_action_dist_params(obs)\n\u001b[32m    169\u001b[39m \u001b[38;5;66;03m# Note: the action is squashed\u001b[39;00m\n\u001b[32m--> \u001b[39m\u001b[32m170\u001b[39m \u001b[38;5;28;01mreturn\u001b[39;00m \u001b[38;5;28;43mself\u001b[39;49m\u001b[43m.\u001b[49m\u001b[43maction_dist\u001b[49m\u001b[43m.\u001b[49m\u001b[43mactions_from_params\u001b[49m\u001b[43m(\u001b[49m\u001b[43mmean_actions\u001b[49m\u001b[43m,\u001b[49m\u001b[43m \u001b[49m\u001b[43mlog_std\u001b[49m\u001b[43m,\u001b[49m\u001b[43m \u001b[49m\u001b[43mdeterministic\u001b[49m\u001b[43m=\u001b[49m\u001b[43mdeterministic\u001b[49m\u001b[43m,\u001b[49m\u001b[43m \u001b[49m\u001b[43m*\u001b[49m\u001b[43m*\u001b[49m\u001b[43mkwargs\u001b[49m\u001b[43m)\u001b[49m\n",
      "\u001b[36mFile \u001b[39m\u001b[32mc:\\Users\\Yuval\\Desktop\\SEM XII\\RL\\Job-Scheduler\\.venv\\Lib\\site-packages\\stable_baselines3\\common\\distributions.py:191\u001b[39m, in \u001b[36mDiagGaussianDistribution.actions_from_params\u001b[39m\u001b[34m(self, mean_actions, log_std, deterministic)\u001b[39m\n\u001b[32m    188\u001b[39m \u001b[38;5;28;01mdef\u001b[39;00m\u001b[38;5;250m \u001b[39m\u001b[34mactions_from_params\u001b[39m(\u001b[38;5;28mself\u001b[39m, mean_actions: th.Tensor, log_std: th.Tensor, deterministic: \u001b[38;5;28mbool\u001b[39m = \u001b[38;5;28;01mFalse\u001b[39;00m) -> th.Tensor:\n\u001b[32m    189\u001b[39m     \u001b[38;5;66;03m# Update the proba distribution\u001b[39;00m\n\u001b[32m    190\u001b[39m     \u001b[38;5;28mself\u001b[39m.proba_distribution(mean_actions, log_std)\n\u001b[32m--> \u001b[39m\u001b[32m191\u001b[39m     \u001b[38;5;28;01mreturn\u001b[39;00m \u001b[38;5;28;43mself\u001b[39;49m\u001b[43m.\u001b[49m\u001b[43mget_actions\u001b[49m\u001b[43m(\u001b[49m\u001b[43mdeterministic\u001b[49m\u001b[43m=\u001b[49m\u001b[43mdeterministic\u001b[49m\u001b[43m)\u001b[49m\n",
      "\u001b[36mFile \u001b[39m\u001b[32mc:\\Users\\Yuval\\Desktop\\SEM XII\\RL\\Job-Scheduler\\.venv\\Lib\\site-packages\\stable_baselines3\\common\\distributions.py:89\u001b[39m, in \u001b[36mDistribution.get_actions\u001b[39m\u001b[34m(self, deterministic)\u001b[39m\n\u001b[32m     87\u001b[39m \u001b[38;5;28;01mif\u001b[39;00m deterministic:\n\u001b[32m     88\u001b[39m     \u001b[38;5;28;01mreturn\u001b[39;00m \u001b[38;5;28mself\u001b[39m.mode()\n\u001b[32m---> \u001b[39m\u001b[32m89\u001b[39m \u001b[38;5;28;01mreturn\u001b[39;00m \u001b[38;5;28;43mself\u001b[39;49m\u001b[43m.\u001b[49m\u001b[43msample\u001b[49m\u001b[43m(\u001b[49m\u001b[43m)\u001b[49m\n",
      "\u001b[36mFile \u001b[39m\u001b[32mc:\\Users\\Yuval\\Desktop\\SEM XII\\RL\\Job-Scheduler\\.venv\\Lib\\site-packages\\stable_baselines3\\common\\distributions.py:249\u001b[39m, in \u001b[36mSquashedDiagGaussianDistribution.sample\u001b[39m\u001b[34m(self)\u001b[39m\n\u001b[32m    247\u001b[39m \u001b[38;5;28;01mdef\u001b[39;00m\u001b[38;5;250m \u001b[39m\u001b[34msample\u001b[39m(\u001b[38;5;28mself\u001b[39m) -> th.Tensor:\n\u001b[32m    248\u001b[39m     \u001b[38;5;66;03m# Reparametrization trick to pass gradients\u001b[39;00m\n\u001b[32m--> \u001b[39m\u001b[32m249\u001b[39m     \u001b[38;5;28mself\u001b[39m.gaussian_actions = \u001b[38;5;28;43msuper\u001b[39;49m\u001b[43m(\u001b[49m\u001b[43m)\u001b[49m\u001b[43m.\u001b[49m\u001b[43msample\u001b[49m\u001b[43m(\u001b[49m\u001b[43m)\u001b[49m\n\u001b[32m    250\u001b[39m     \u001b[38;5;28;01mreturn\u001b[39;00m th.tanh(\u001b[38;5;28mself\u001b[39m.gaussian_actions)\n",
      "\u001b[36mFile \u001b[39m\u001b[32mc:\\Users\\Yuval\\Desktop\\SEM XII\\RL\\Job-Scheduler\\.venv\\Lib\\site-packages\\stable_baselines3\\common\\distributions.py:183\u001b[39m, in \u001b[36mDiagGaussianDistribution.sample\u001b[39m\u001b[34m(self)\u001b[39m\n\u001b[32m    181\u001b[39m \u001b[38;5;28;01mdef\u001b[39;00m\u001b[38;5;250m \u001b[39m\u001b[34msample\u001b[39m(\u001b[38;5;28mself\u001b[39m) -> th.Tensor:\n\u001b[32m    182\u001b[39m     \u001b[38;5;66;03m# Reparametrization trick to pass gradients\u001b[39;00m\n\u001b[32m--> \u001b[39m\u001b[32m183\u001b[39m     \u001b[38;5;28;01mreturn\u001b[39;00m \u001b[38;5;28;43mself\u001b[39;49m\u001b[43m.\u001b[49m\u001b[43mdistribution\u001b[49m\u001b[43m.\u001b[49m\u001b[43mrsample\u001b[49m\u001b[43m(\u001b[49m\u001b[43m)\u001b[49m\n",
      "\u001b[36mFile \u001b[39m\u001b[32mc:\\Users\\Yuval\\Desktop\\SEM XII\\RL\\Job-Scheduler\\.venv\\Lib\\site-packages\\torch\\distributions\\normal.py:77\u001b[39m, in \u001b[36mNormal.rsample\u001b[39m\u001b[34m(self, sample_shape)\u001b[39m\n\u001b[32m     75\u001b[39m \u001b[38;5;28;01mdef\u001b[39;00m\u001b[38;5;250m \u001b[39m\u001b[34mrsample\u001b[39m(\u001b[38;5;28mself\u001b[39m, sample_shape: _size = torch.Size()) -> torch.Tensor:\n\u001b[32m     76\u001b[39m     shape = \u001b[38;5;28mself\u001b[39m._extended_shape(sample_shape)\n\u001b[32m---> \u001b[39m\u001b[32m77\u001b[39m     eps = \u001b[43m_standard_normal\u001b[49m\u001b[43m(\u001b[49m\u001b[43mshape\u001b[49m\u001b[43m,\u001b[49m\u001b[43m \u001b[49m\u001b[43mdtype\u001b[49m\u001b[43m=\u001b[49m\u001b[38;5;28;43mself\u001b[39;49m\u001b[43m.\u001b[49m\u001b[43mloc\u001b[49m\u001b[43m.\u001b[49m\u001b[43mdtype\u001b[49m\u001b[43m,\u001b[49m\u001b[43m \u001b[49m\u001b[43mdevice\u001b[49m\u001b[43m=\u001b[49m\u001b[38;5;28;43mself\u001b[39;49m\u001b[43m.\u001b[49m\u001b[43mloc\u001b[49m\u001b[43m.\u001b[49m\u001b[43mdevice\u001b[49m\u001b[43m)\u001b[49m\n\u001b[32m     78\u001b[39m     \u001b[38;5;28;01mreturn\u001b[39;00m \u001b[38;5;28mself\u001b[39m.loc + eps * \u001b[38;5;28mself\u001b[39m.scale\n",
      "\u001b[36mFile \u001b[39m\u001b[32mc:\\Users\\Yuval\\Desktop\\SEM XII\\RL\\Job-Scheduler\\.venv\\Lib\\site-packages\\torch\\distributions\\utils.py:65\u001b[39m, in \u001b[36m_standard_normal\u001b[39m\u001b[34m(shape, dtype, device)\u001b[39m\n\u001b[32m     59\u001b[39m \u001b[38;5;28;01mif\u001b[39;00m torch._C._get_tracing_state():\n\u001b[32m     60\u001b[39m     \u001b[38;5;66;03m# [JIT WORKAROUND] lack of support for .normal_()\u001b[39;00m\n\u001b[32m     61\u001b[39m     \u001b[38;5;28;01mreturn\u001b[39;00m torch.normal(\n\u001b[32m     62\u001b[39m         torch.zeros(shape, dtype=dtype, device=device),\n\u001b[32m     63\u001b[39m         torch.ones(shape, dtype=dtype, device=device),\n\u001b[32m     64\u001b[39m     )\n\u001b[32m---> \u001b[39m\u001b[32m65\u001b[39m \u001b[38;5;28;01mreturn\u001b[39;00m \u001b[43mtorch\u001b[49m\u001b[43m.\u001b[49m\u001b[43mempty\u001b[49m\u001b[43m(\u001b[49m\u001b[43mshape\u001b[49m\u001b[43m,\u001b[49m\u001b[43m \u001b[49m\u001b[43mdtype\u001b[49m\u001b[43m=\u001b[49m\u001b[43mdtype\u001b[49m\u001b[43m,\u001b[49m\u001b[43m \u001b[49m\u001b[43mdevice\u001b[49m\u001b[43m=\u001b[49m\u001b[43mdevice\u001b[49m\u001b[43m)\u001b[49m.normal_()\n",
      "\u001b[31mKeyboardInterrupt\u001b[39m: "
     ]
    }
   ],
   "source": [
    "ALGO = \"SAC\"\n",
    "POLICY = \"MlpPolicy\"\n",
    "\n",
    "\n",
    "env = JobSchedulingEnv(num_jobs=5)\n",
    "\n",
    "model = algos[ALGO](POLICY, env, verbose=1, tensorboard_log=\"./tb_logs/\")\n",
    "\n",
    "model.set_random_seed(42)\n",
    "model.learn(total_timesteps=20000, progress_bar=True)\n",
    "\n",
    "# obs, _ = env.reset()\n",
    "# done = False\n",
    "rewards = []\n",
    "\n",
    "for _ in range(10):  # Test for 10 episodes\n",
    "    obs, _ = env.reset()\n",
    "    done = False\n",
    "    episode_reward = 0\n",
    "    while not done:\n",
    "        action, _ = model.predict(obs)\n",
    "        obs, reward, terminated, truncated, _ = env.step(action)\n",
    "        done = terminated or truncated\n",
    "        episode_reward += reward\n",
    "    rewards.append(episode_reward)\n",
    "\n",
    "print(\"Average Reward:\", np.mean(rewards))\n",
    "print(\"Total Waiting Time:\", env.total_waiting_time)\n",
    "print(\"Done Jobs:\", len(env.done_jobs))\n"
   ]
  },
  {
   "cell_type": "code",
   "execution_count": null,
   "id": "59abc39c",
   "metadata": {},
   "outputs": [],
   "source": [
    "rewards_per_episode = []\n",
    "obs, _ = env.reset()\n",
    "for _ in range(100):  # 100 test episodes\n",
    "    action, _ = model.predict(obs)\n",
    "    obs, reward, done, _, _ = env.step(action)\n",
    "    rewards_per_episode.append(reward)\n",
    "\n",
    "plt.plot(rewards_per_episode, label=\"Rewards per Episode\")\n",
    "plt.xlabel(\"Episodes\")\n",
    "plt.ylabel(\"Reward\")\n",
    "plt.title(\"Learning Curve\")\n",
    "plt.legend()\n",
    "plt.show()\n"
   ]
  },
  {
   "cell_type": "code",
   "execution_count": null,
   "id": "5b82bcdf",
   "metadata": {},
   "outputs": [],
   "source": [
    "plt.figure(figsize=(10, 5))\n",
    "plt.plot(rewards, label=\"RL Agent Reward per Step\")\n",
    "fifo = -fifo_scheduling(env.jobs)\n",
    "sjf = -sjf_scheduling(env.jobs)\n",
    "edf = -edf_scheduling(env.jobs)\n",
    "plt.axhline(y=fifo, color=\"r\", linestyle=\"--\", label=\"FIFO Baseline\")\n",
    "plt.axhline(y=sjf, color=\"g\", linestyle=\"--\", label=\"SJF Baseline\")\n",
    "plt.axhline(y=edf, color=\"b\", linestyle=\"--\", label=\"EDF Baseline\")\n",
    "plt.xlabel(\"Steps\")\n",
    "plt.ylabel(\"Reward\")\n",
    "plt.title(\"Reward Over Time in Job Scheduling\")\n",
    "plt.legend()\n",
    "plt.show()\n"
   ]
  },
  {
   "cell_type": "code",
   "execution_count": null,
   "id": "b1510c5e",
   "metadata": {},
   "outputs": [],
   "source": [
    "model.save(f\"js_model_{ALGO}.zip\")\n"
   ]
  },
  {
   "cell_type": "code",
   "execution_count": null,
   "id": "dffc9fde",
   "metadata": {},
   "outputs": [],
   "source": [
    "loaded_model = algos[ALGO].load(f\"js_model_{ALGO}.zip\", env=env)\n",
    "obs, _ = env.reset()\n",
    "done = False\n",
    "rewards = []\n",
    "while not done:\n",
    "    action, _ = loaded_model.predict(obs)\n",
    "    obs, reward, terminated, truncated, _ = env.step(action)\n",
    "    done = terminated or truncated\n",
    "    rewards.append(reward)\n",
    "print(\"Loaded Model Average Reward:\", np.mean(rewards))\n",
    "print(\"Loaded Model Total Waiting Time:\", env.total_waiting_time)\n",
    "print(\"Loaded Model Done Jobs:\", len(env.done_jobs))"
   ]
  },
  {
   "cell_type": "code",
   "execution_count": null,
   "id": "18d660a6",
   "metadata": {},
   "outputs": [],
   "source": []
  }
 ],
 "metadata": {
  "kernelspec": {
   "display_name": ".venv (3.11.9)",
   "language": "python",
   "name": "python3"
  },
  "language_info": {
   "codemirror_mode": {
    "name": "ipython",
    "version": 3
   },
   "file_extension": ".py",
   "mimetype": "text/x-python",
   "name": "python",
   "nbconvert_exporter": "python",
   "pygments_lexer": "ipython3",
   "version": "3.11.9"
  }
 },
 "nbformat": 4,
 "nbformat_minor": 5
}
